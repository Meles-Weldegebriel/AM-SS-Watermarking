{
 "cells": [
  {
   "cell_type": "markdown",
   "id": "d62b4b55",
   "metadata": {},
   "source": [
    "# Peak to Average Power Ratio in OFDM"
   ]
  },
  {
   "cell_type": "code",
   "execution_count": 177,
   "id": "a2a2d0c9",
   "metadata": {},
   "outputs": [],
   "source": [
    "import math\n",
    "import numpy as np\n",
    "import matplotlib.pyplot as plt\n",
    "import matplotlib\n",
    "from scipy.signal import lfilter\n",
    "#import statistics as stats"
   ]
  },
  {
   "cell_type": "code",
   "execution_count": 178,
   "id": "f43f8466",
   "metadata": {},
   "outputs": [],
   "source": [
    "import json\n",
    "import math\n",
    "import numpy as np\n",
    "from scipy import signal\n",
    "import h5py\n",
    "import matplotlib.pyplot as plt\n",
    "from matplotlib import rc\n",
    "import datetime\n",
    "import scipy.signal as signal\n",
    "import pandas as pd\n",
    "import seaborn as sns\n",
    "import statistics as stats\n",
    "from scipy.spatial.distance import hamming\n",
    "import os"
   ]
  },
  {
   "cell_type": "code",
   "execution_count": 179,
   "id": "d1176a92",
   "metadata": {},
   "outputs": [],
   "source": [
    "def text2bits(message):\n",
    "    # Convert to characters of '1' and '0' in a vector.\n",
    "    temp_message = []\n",
    "    final_message = []\n",
    "    for each in message:\n",
    "        temp_message.append(format(ord(each), '07b'))\n",
    "    for every in temp_message:\n",
    "        for digit in every:\n",
    "            final_message.append(int(digit))\n",
    "    return final_message"
   ]
  },
  {
   "cell_type": "code",
   "execution_count": 180,
   "id": "f373cb02",
   "metadata": {},
   "outputs": [],
   "source": [
    "def binvector2str(binvector):\n",
    "    #binvector = binvector[0]\n",
    "    length = len(binvector)\n",
    "    eps = np.finfo('float').eps\n",
    "    if abs(length/7 - round(length/7)) > eps:\n",
    "        print('Length of bit stream must be a multiple of 7 to convert to a string.')\n",
    "    # Each character requires 7 bits in standard ASCII\n",
    "    num_characters = round(length/7)\n",
    "    # Maximum value is first in the vector. Otherwise would use 0:1:length-1\n",
    "    start = 6\n",
    "    bin_values = []\n",
    "    while start >= 0:\n",
    "        bin_values.append(int(math.pow(2,start)))\n",
    "        start = start - 1\n",
    "    bin_values = np.array(bin_values)\n",
    "    bin_values = np.transpose(bin_values)\n",
    "    str_out = '' # Initialize character vector\n",
    "    for i in range(num_characters):\n",
    "        single_char = binvector[i*7:i*7+7]\n",
    "        value = 0\n",
    "        for counter in range(len(single_char)):\n",
    "            value = value + (int(single_char[counter]) * int(bin_values[counter]))\n",
    "        str_out += chr(int(value))\n",
    "    return str_out"
   ]
  },
  {
   "cell_type": "code",
   "execution_count": 181,
   "id": "ac3906ed",
   "metadata": {},
   "outputs": [],
   "source": [
    "packet = 6000 # number of bits per pseudonym bit\n",
    "samples = packet//10\n",
    "OFDM_size = 80\n",
    "CP = 16\n",
    "#mod_index = 0.0 # decides the level of modification/modulation on the host signal\n",
    "#const = 0.02 # used to control voltage input to the usrp transmitter\n",
    "Pseudonym = 'STOP'\n",
    "Pseudonym_Len = len(text2bits(Pseudonym))"
   ]
  },
  {
   "cell_type": "code",
   "execution_count": 182,
   "id": "798e9a9a",
   "metadata": {},
   "outputs": [],
   "source": [
    "# PURPOSE: Generate an OFMD signal for a given text message\n",
    "# We use 25% cyclic prefix\n",
    "def OFDM_TX(x):\n",
    "    #args = parse_args()\n",
    "    K = 64 # number of OFDM subcarriers\n",
    "    P = 4 # number of pilot carriers per OFDM block\n",
    "    G = 12 # number of guard carriers\n",
    "    CP = 16  # 25% Cyclic Prefix \n",
    "    M = 2 # bits per symbol (i.e. QPSK)\n",
    "    \n",
    "    # generate the host message signal\n",
    "    bits = np.random.binomial(n=1, p=0.5, size=(x*9600,))\n",
    "    dataCarriers = np.array([-26,-25,-24,-23,-22,-21,-20,-19,-18,-17,-16,-15,-14,-13,-12,-11,-10,-9,-8,-7,-6,\n",
    "                         -5,-4,-3,-2,-1,0,1,2,3,4,5,6,7,8,9,10,11,12,13,14,15,16,17,18,19,20,21,22,23,24,25])\n",
    "    pilotCarriers = np.array([-21,-7,7,21])\n",
    "    guardCarriers = np.array([-32,-31,-30,-29,-28,-27,26,27,28,29,30,31])\n",
    " \n",
    "    for i in range(len(bits)//(2*K)):\n",
    "        \n",
    "        data_bits = bits[i*2*K:(i+1)*2*K]\n",
    "\n",
    "        # Convert serial data to parallel\n",
    "        def Serial_to_Parallel(x):\n",
    "            return x.reshape((K, M))\n",
    "        parallel_bits = Serial_to_Parallel(data_bits)\n",
    "\n",
    "        # mapping table\n",
    "        ## maps data_bits into complex value IQ samples\n",
    "        mapping_table = {\n",
    "            (0,0) : 1.4142 + 1.4142j,\n",
    "            (0,1) : -1.4142 + 1.4142j,\n",
    "            (1,0) : 1.4142 - 1.4142j,\n",
    "            (1,1) : -1.4142 - 1.4142j\n",
    "        }\n",
    "\n",
    "        # mapping\n",
    "        def Mapping(x):\n",
    "            return np.array([mapping_table[tuple(b)] for b in x])\n",
    "        \n",
    "        QPSK = Mapping(parallel_bits)\n",
    "\n",
    "        # OFDM symbol generation\n",
    "        def OFDM_symbol_gen(x):\n",
    "            pilot_value = np.array([1.412+1.4142j, -1.4142-1.4142j, 1.4142+1.4142j, -1.4142-1.4142j])\n",
    "            guard_band = np.array([0+0j, 0+0j, 0+0j, 0+0j, 0+0j, 0+0j, 0+0j, 0+0j, 0+0j, 0+0j, 0+0j, 0+0j])\n",
    "            \n",
    "            symbol = np.zeros(K, dtype=np.complex64)\n",
    "            symbol[dataCarriers] = x[dataCarriers]\n",
    "            symbol[pilotCarriers] = pilot_value\n",
    "            symbol[guardCarriers] = guard_band\n",
    "            return symbol\n",
    "        OFDM_symbol = OFDM_symbol_gen(QPSK)\n",
    "        \n",
    "        # Generate time domain signal\n",
    "        def IDFT(x, n=64):\n",
    "            return np.fft.ifftshift(np.fft.ifft(x,n))\n",
    "        \n",
    "        OFDM_symbol_time = IDFT(OFDM_symbol)\n",
    "\n",
    "        #adding cyclic prefix\n",
    "        def addCP(x):\n",
    "            cp = x[-CP:]              \n",
    "            return np.hstack([cp, x]) \n",
    "        OFDM_withCP = 3*addCP(OFDM_symbol_time)\n",
    "        #OFDM_withCP = addCP(OFDM_symbol)\n",
    "        if i == 0:\n",
    "            OFDM_swap = OFDM_withCP\n",
    "        else:\n",
    "            OFDM_signal = np.hstack([OFDM_swap, OFDM_withCP])\n",
    "            OFDM_swap = OFDM_signal\n",
    "    return OFDM_signal"
   ]
  },
  {
   "cell_type": "code",
   "execution_count": 183,
   "id": "b99c7e93",
   "metadata": {},
   "outputs": [],
   "source": [
    "## embedding the message signal on to the host signal\n",
    "def Pseudonym_embedding(x,message):\n",
    "    modulated_signal = np.zeros(len(x), dtype=np.complex64)\n",
    "    for i in range(int(len(x)/packet)):\n",
    "        OFDM_packet = x[i*packet:(i+1)*packet]\n",
    "        trancated_signal = np.zeros(len(OFDM_packet), dtype=np.complex64)\n",
    "        if message[i] == 1.0:\n",
    "            for j in range(10):\n",
    "                if j%2 == 0:\n",
    "                    trancated_signal[j*samples:(j+1)*samples] = (1+mod_index)*OFDM_packet[j*samples:(j+1)*samples]\n",
    "                else:\n",
    "                    trancated_signal[j*samples:(j+1)*samples] = (1-mod_index)*OFDM_packet[j*samples:(j+1)*samples]\n",
    "        else:\n",
    "            for j in range(10):\n",
    "                if j%2 == 0:\n",
    "                    trancated_signal[j*samples:(j+1)*samples] = (1-mod_index)*OFDM_packet[j*samples:(j+1)*samples]\n",
    "                else:\n",
    "                    trancated_signal[j*samples:(j+1)*samples] = (1+mod_index)*OFDM_packet[j*samples:(j+1)*samples]\n",
    "        modulated_signal[i*packet:(i+1)*packet] = trancated_signal\n",
    "    return modulated_signal"
   ]
  },
  {
   "cell_type": "code",
   "execution_count": 184,
   "id": "c82f5dee",
   "metadata": {},
   "outputs": [],
   "source": [
    "# def Peak2Average_Power_Ratio(x):\n",
    "#     PAPR = 0.00\n",
    "#     n = len(x)//packet\n",
    "#     for i in range(n):\n",
    "#         data = x[i*OFDM_size:(i+1)*OFDM_size]\n",
    "#         samp_power = abs(data)**2\n",
    "#         peak_power = np.max(samp_power)\n",
    "#         PAPR = PAPR + peak_power/np.mean(samp_power)\n",
    "#     return PAPR/n"
   ]
  },
  {
   "cell_type": "code",
   "execution_count": 185,
   "id": "32aba1c9",
   "metadata": {},
   "outputs": [],
   "source": [
    "def Peak2Average_Power_Ratio(x):\n",
    "    samp_power = abs(x)**2\n",
    "    peak_power = np.max(samp_power)\n",
    "    \n",
    "    return peak_power/np.mean(samp_power)"
   ]
  },
  {
   "cell_type": "code",
   "execution_count": 186,
   "id": "e1da0c04",
   "metadata": {},
   "outputs": [],
   "source": [
    "def Distribution_PAPR(n):\n",
    "    P2APR = []\n",
    "    for i in range(n):\n",
    "        OFDM_signal = OFDM_TX(Pseudonym_Len) \n",
    "\n",
    "        PAM_modulated_OFDM = Pseudonym_embedding(OFDM_signal,text2bits(Pseudonym))\n",
    "\n",
    "        P2APR.append(Peak2Average_Power_Ratio(PAM_modulated_OFDM))\n",
    "        \n",
    "    return P2APR"
   ]
  },
  {
   "cell_type": "code",
   "execution_count": 187,
   "id": "b04576ae-a605-4696-8799-e880c2489279",
   "metadata": {},
   "outputs": [],
   "source": [
    "def Distribution_PAPR_Unwatermarked(n):\n",
    "    P2APR = []\n",
    "    for i in range(n):\n",
    "        OFDM_signal = OFDM_TX(Pseudonym_Len) \n",
    "\n",
    "        PAM_modulated_OFDM = Pseudonym_embedding(OFDM_signal,text2bits(Pseudonym))\n",
    "        # print(\"Length of Watermarked OFDM Signal:\",lenPAM_modulated_OFDM)\n",
    "        P2APR.append(Peak2Average_Power_Ratio(PAM_modulated_OFDM[:144000]))\n",
    "        \n",
    "    return P2APR"
   ]
  },
  {
   "cell_type": "code",
   "execution_count": 188,
   "id": "1a436338-b338-474f-ab5f-579f7fb80cfd",
   "metadata": {},
   "outputs": [],
   "source": [
    "n = 1000\n",
    "mod_index = 0.0\n",
    "PAPR00 = Distribution_PAPR_Unwatermarked(n)\n",
    "mod_index = 0.3\n",
    "PAPR03 = Distribution_PAPR(n)\n",
    "mod_index = 0.2\n",
    "PAPR02 = Distribution_PAPR(n)"
   ]
  },
  {
   "cell_type": "markdown",
   "id": "cfbe5d00",
   "metadata": {},
   "source": [
    "# PAPR for Separate Channel Transmission of Pseudonum"
   ]
  },
  {
   "cell_type": "code",
   "execution_count": 190,
   "id": "6ed20ec0",
   "metadata": {},
   "outputs": [],
   "source": [
    "'''\n",
    "Protocol parameters!!!\n",
    "'''\n",
    "samples = 600 # number of data samples per pseudonym bit\n",
    "FFT = 64 # FFT size for extracting IQ sample in each subcarrier\n",
    "OFDM_size = 80 # OFDM symbol with cyclic prefix\n",
    "pseudonym_len = 4\n",
    "pream_length = 352\n",
    "pattern_sample = samples//10\n",
    "mess_length = samples*OFDM_size*pseudonym_len \n",
    "Frame_length = mess_length + pream_length"
   ]
  },
  {
   "cell_type": "code",
   "execution_count": 191,
   "id": "034ba354",
   "metadata": {},
   "outputs": [],
   "source": [
    "pseudonym_packet = np.zeros((pseudonym_len,1)) ## Transmitted pseudonym bit sequence\n",
    "for i in range(pseudonym_len):\n",
    "    if i%2 == 0:\n",
    "        pseudonym_packet[i] = 1"
   ]
  },
  {
   "cell_type": "code",
   "execution_count": 192,
   "id": "55dc12fe",
   "metadata": {},
   "outputs": [],
   "source": [
    "dataCarriers = np.array([-26,-25,-24,-23,-22,-21,-20,-19,-18,-17,-16,-15,-14,-13,-12,-11,-10,-9,-8,-7,-6,\n",
    "                    -5,-4,-3,-2,-1,0,1,2,3,4,5,6,7,8,9,10,11,12,13,14,15,16,17,18,19,20,21,22,23,24,25])\n",
    "\n",
    "pseudonymChannel2 = np.array([26])\n",
    "\n",
    "guardCarriers = np.array([-32,-31,-30,-29,-28,-27,26,27,28,29,30,31])\n",
    "pilotCarriers = np.array([-21,-7,7,21])\n",
    "p_bit0_pattern = np.array([0,1,0,1,0,1,0,1,0,1])\n",
    "p_bit1_pattern = np.array([1,0,1,0,1,0,1,0,1,0])\n"
   ]
  },
  {
   "cell_type": "code",
   "execution_count": 193,
   "id": "06b4aa29",
   "metadata": {},
   "outputs": [],
   "source": [
    "def OFDM_TX_Subchannel(message_len):\n",
    "    CP = 16  # 25% Cyclic Prefix \n",
    "    M = 2 # bits per symbol (i.e. QPSK)\n",
    "    \n",
    "    bits = np.random.binomial(n=1, p=0.5, size=(message_len,))\n",
    " \n",
    "    for i in range(len(bits)//(2*FFT)):\n",
    "        \n",
    "        data_bits = bits[i*2*FFT:(i+1)*2*FFT]\n",
    "\n",
    "        # Convert serial data to parallel\n",
    "        def Serial_to_Parallel(x):\n",
    "            return x.reshape((FFT, M))\n",
    "        parallel_bits = Serial_to_Parallel(data_bits)\n",
    "\n",
    "        # mapping table\n",
    "        ## maps data_bits into complex value IQ samples\n",
    "        mapping_table = {\n",
    "            (0,0) : 1.4142 + 1.4142j,\n",
    "            (0,1) : -1.4142 + 1.4142j,\n",
    "            (1,0) : 1.4142 - 1.4142j,\n",
    "            (1,1) : -1.4142 - 1.4142j\n",
    "        }\n",
    "\n",
    "        # mapping\n",
    "        def Mapping(x):\n",
    "            return np.array([mapping_table[tuple(b)] for b in x])\n",
    "        \n",
    "        QPSK = Mapping(parallel_bits)\n",
    "#         print('Length of QSPS',len(QPSK))\n",
    "        # OFDM symbol generation\n",
    "        def OFDM_symbol_gen(x):\n",
    "            pilot_value = np.array([1.4142 + 1.4142j, -1.4142 - 1.4142j, 1.4142 + 1.4142j, -1.4142 - 1.4142j])\n",
    "            guard_value = np.array([0+0j, 0+0j, 0+0j, 0+0j, 0+0j, 0+0j, 0+0j, 0+0j, 0+0j, 0+0j, 0+0j, 0+0j])\n",
    "            pseudonym_value = np.array([1.4142 + 1.4142j])\n",
    "            \n",
    "            symbol = np.zeros(FFT, dtype=np.complex64)\n",
    "            symbol[dataCarriers] = QPSK[dataCarriers]\n",
    "            symbol[guardCarriers] = guard_value\n",
    "            symbol[pilotCarriers] = pilot_value\n",
    "            symbol[pseudonymChannel2] = pseudonym_value\n",
    "            return symbol\n",
    "        \n",
    "        OFDM_symbol = OFDM_symbol_gen(QPSK)\n",
    "\n",
    "        # Pseudonym Embedding Scheme\n",
    "        # Embeds the pseudonyms on to the subcarriers\n",
    "        \n",
    "        def Pseudonym_Embedding(x):\n",
    "            if i < len(bits)//(4*FFT):\n",
    "                      \n",
    "                if (i//pattern_sample)%2 == 0: \n",
    "#                      \n",
    "                    x[pseudonymChannel2] = x[pseudonymChannel2]*(1+mod_index) \n",
    "                else:\n",
    "#                    \n",
    "                    x[pseudonymChannel2] = x[pseudonymChannel2]*(1-mod_index) \n",
    "            else:\n",
    "                if (i//pattern_sample)%2 == 0:\n",
    "#                     \n",
    "                    x[pseudonymChannel2] = x[pseudonymChannel2]*(1-mod_index) \n",
    "                else:\n",
    "#                     \n",
    "                    x[pseudonymChannel2] = x[pseudonymChannel2]*(1+mod_index)\n",
    "            return x\n",
    "        \n",
    "        modulated_OFDM = Pseudonym_Embedding(OFDM_symbol)\n",
    "        \n",
    "        # Generate time domain signal\n",
    "        def IDFT(x, n=64):\n",
    "            return np.fft.ifft(x,n)\n",
    "        \n",
    "        OFDM_time = IDFT(modulated_OFDM)\n",
    "\n",
    "        # adding cyclic prefix\n",
    "        def addCP(x):\n",
    "            cp = x[-CP:]              \n",
    "            return np.hstack([cp, x]) \n",
    "        OFDM_withCP = 3*addCP(OFDM_time)\n",
    "        if i == 0:\n",
    "            OFDM_swap = OFDM_withCP\n",
    "        else:\n",
    "            OFDM_signal = np.hstack([OFDM_swap, OFDM_withCP])\n",
    "            OFDM_swap = OFDM_signal\n",
    "#         print('Length of waveform:',len(OFDM_swap))\n",
    "    return OFDM_signal"
   ]
  },
  {
   "cell_type": "code",
   "execution_count": 194,
   "id": "e897b94d",
   "metadata": {},
   "outputs": [],
   "source": [
    "# Computes the Peak to Average Power Ratio for n randomly generate Watermarked OFDM Signals\n",
    "def Distribution_PAPR_Single(n):\n",
    "    P2APR = []\n",
    "    for i in range(n):\n",
    "        OFDM_signal = OFDM_TX_Subchannel(6*FFT*samples) \n",
    "        P2APR.append(Peak2Average_Power_Ratio(OFDM_signal))\n",
    "        \n",
    "    return P2APR"
   ]
  },
  {
   "cell_type": "code",
   "execution_count": 195,
   "id": "e9165098",
   "metadata": {
    "scrolled": true
   },
   "outputs": [],
   "source": [
    "mod_index = 1.0\n",
    "PAPR_Separate = Distribution_PAPR_Single(n)"
   ]
  },
  {
   "cell_type": "code",
   "execution_count": 196,
   "id": "d4480a44-21f5-40db-a84e-355766e83220",
   "metadata": {},
   "outputs": [
    {
     "name": "stdout",
     "output_type": "stream",
     "text": [
      "Mean of PAPR for unwatermarked = 11.690396\n",
      "Mean of PAPR for single subcarrier = 11.784425408824085\n"
     ]
    }
   ],
   "source": [
    "print('Mean of PAPR for unwatermarked =',np.mean(PAPR00))\n",
    "print('Mean of PAPR for single subcarrier =',np.mean(PAPR_Separate))"
   ]
  },
  {
   "cell_type": "code",
   "execution_count": 197,
   "id": "1a871970",
   "metadata": {},
   "outputs": [
    {
     "data": {
      "image/png": "[encoded data removed]",
      "text/plain": [
       "<Figure size 640x480 with 1 Axes>"
      ]
     },
     "metadata": {},
     "output_type": "display_data"
    }
   ],
   "source": [
    "# Plotting the KDE Plot\n",
    "import seaborn as sns\n",
    "# creating a dictionary\n",
    "font = {'size': 10}\n",
    " \n",
    "# using rc function\n",
    "plt.rc('font', **font)\n",
    "\n",
    "%matplotlib inline\n",
    "sns.kdeplot(PAPR03, color='r', fill=False, label='30% - AM-SS')\n",
    "sns.kdeplot(PAPR02, color='b', fill=False, label='20% - AM-SS')\n",
    "sns.kdeplot(PAPR_Separate, color='k', fill=False, label='100% - 1S-AM-SS')\n",
    "sns.kdeplot(PAPR00, color='g', fill=False, label='Unwatermarked OFDM Signal')\n",
    "plt.legend()\n",
    "plt.xlabel('Peak to Average Power Ratio', c= 'k')\n",
    "plt.ylabel('Probability Density', c = 'k')\n",
    "plt.savefig('PAPR.pdf', format = 'pdf', dpi = 1200)"
   ]
  }
 ],
 "metadata": {
  "kernelspec": {
   "display_name": "Python 3 (ipykernel)",
   "language": "python",
   "name": "python3"
  },
  "language_info": {
   "codemirror_mode": {
    "name": "ipython",
    "version": 3
   },
   "file_extension": ".py",
   "mimetype": "text/x-python",
   "name": "python",
   "nbconvert_exporter": "python",
   "pygments_lexer": "ipython3",
   "version": "3.9.7"
  }
 },
 "nbformat": 4,
 "nbformat_minor": 5
}
