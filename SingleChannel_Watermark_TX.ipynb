{
 "cells": [
  {
   "cell_type": "code",
   "execution_count": null,
   "id": "a2a2d0c9",
   "metadata": {
    "scrolled": true
   },
   "outputs": [],
   "source": [
    "import math\n",
    "import numpy as np\n",
    "import matplotlib.pyplot as plt\n",
    "import scipy.io\n",
    "import scipy.signal as signal"
   ]
  },
  {
   "cell_type": "code",
   "execution_count": 2,
   "id": "ff7aa477-ef36-44b2-b000-ff56ff5222fc",
   "metadata": {},
   "outputs": [],
   "source": [
    "# PURPOSE: Convert a text string to a stream of 1/0 bits.\n",
    "# INPUT: string message\n",
    "# OUTPUT: vector of 1's and 0's.\n",
    "def text2bits(message):\n",
    "    # Convert to characters of '1' and '0' in a vector.\n",
    "    temp_message = []\n",
    "    final_message = []\n",
    "    for each in message:\n",
    "        temp_message.append(format(ord(each), '07b'))\n",
    "    for every in temp_message:\n",
    "        for digit in every:\n",
    "            final_message.append(int(digit))\n",
    "    return final_message"
   ]
  },
  {
   "cell_type": "code",
   "execution_count": 3,
   "id": "d690d814-3779-41b9-999c-8c581fcf4e85",
   "metadata": {},
   "outputs": [],
   "source": [
    "pseudonym_mesage = 'STOP'\n",
    "pseudonym_packet = text2bits(pseudonym_mesage)"
   ]
  },
  {
   "cell_type": "code",
   "execution_count": 4,
   "id": "5bbec36c",
   "metadata": {},
   "outputs": [
    {
     "data": {
      "text/plain": [
       "82"
      ]
     },
     "execution_count": 4,
     "metadata": {},
     "output_type": "execute_result"
    }
   ],
   "source": [
    "'''\n",
    "Protocol parameters!!!\n",
    "'''\n",
    "FFT = 64 # FFT size for extracting IQ sample in each subcarrier\n",
    "OFDM_size = 80 # OFDM symbol with cyclic prefix\n",
    "data_size = 48 # data_subcarriers\n",
    "mess_length = 480\n",
    "actual_message = 'I have done my PhD in electrical engineering at WashU. What a journey it has been!'"
   ]
  },
  {
   "cell_type": "code",
   "execution_count": 5,
   "id": "ac3906ed",
   "metadata": {},
   "outputs": [],
   "source": [
    "packet = 6000 # number of bits per pseudonym bit\n",
    "samples = packet//10 # number of samples per chip\n",
    "CP = 16\n",
    "mod_index = 1.0 # decides the level of modification/modulation on the host signal"
   ]
  },
  {
   "cell_type": "code",
   "execution_count": 6,
   "id": "101260de",
   "metadata": {},
   "outputs": [],
   "source": [
    "CP = FFT//4  # 25% cyclic prefix\n",
    "pilotValue = 2.83+2.83j # known values for pilots\n",
    "# pilotValue = 1.4142+1.4142j # known values for pilots\n",
    "pseudonymValue = 1.4142+1.4142j"
   ]
  },
  {
   "cell_type": "code",
   "execution_count": null,
   "id": "fe5ddc72",
   "metadata": {
    "scrolled": true
   },
   "outputs": [],
   "source": [
    "allCarriers = np.array([-32,-31,-30,-29,-28,-27,-26,-25,-24,-23,-22,-21,-20,-19,-18,-17,-16,-15,-14,-13,-12,-11,-10,-9,-8,-7,-6,\n",
    "                    -5,-4,-3,-2,-1,0,1,2,3,4,5,6,7,8,9,10,11,12,13,14,15,16,17,18,19,20,21,22,23,24,25,26,27,28,29,30,31])\n",
    "print('Length of allCarriers',len(allCarriers))\n",
    "dataCarriers = np.array([-26,-25,-24,-23,-22,-20,-19,-18,-17,-16,-15,-14,-13,-12,-11,-10,-9,-8,-6,\n",
    "                    -5,-4,-3,-2,-1,0,1,2,3,4,5,6,8,9,10,11,12,13,14,15,16,17,18,19,20,22,23,24,25])\n",
    "pseudonymCarrier = np.array([26])\n",
    "pilotCarriers = np.array([-21,-7,7,21])\n",
    "guardCarriers = np.array([-32,-31,-30,-29,-28,-27,27,28,29,30,31])\n",
    "\n",
    "plt.plot(pilotCarriers, np.zeros_like(pilotCarriers), 'bo', label='pilot subcarriers')\n",
    "plt.plot(dataCarriers, np.zeros_like(dataCarriers), 'ro', label='data subcarriers')\n",
    "plt.plot(guardCarriers, np.zeros_like(guardCarriers), 'ko', label='guard subcarriers')\n",
    "plt.plot(pseudonymCarrier, np.zeros_like(pseudonymCarrier), 'yo', label='pseudonym subcarrier')\n",
    "plt.legend()"
   ]
  },
  {
   "cell_type": "code",
   "execution_count": 8,
   "id": "a8ea8c67",
   "metadata": {},
   "outputs": [],
   "source": [
    "# PURPOSE: convert input data stream to signal space values for\n",
    "#          a particular modulation type (as specified by the inputVec\n",
    "#          and outputVec).\n",
    "# INPUT: data (groups of bits)\n",
    "# OUTPUT: signal space values\n",
    "def lut(data, inputVec, outputVec):\n",
    "    if len(inputVec) != len(outputVec):\n",
    "        print('Input and Output vectors must have identical length')\n",
    "    # Initialize output\n",
    "    output = np.zeros(data.shape)\n",
    "    # For each possible data value\n",
    "    eps = np.finfo('float').eps\n",
    "    for i in range(len(inputVec)):\n",
    "        # Find the indices where data is equal to that input value\n",
    "        for k in range(len(data)):\n",
    "            if abs(data[k]-inputVec[i]) < eps:\n",
    "                # Set those indices in the output to be the appropriate output value.\n",
    "                output[k] = outputVec[i]\n",
    "    return output"
   ]
  },
  {
   "cell_type": "code",
   "execution_count": 9,
   "id": "97255e82",
   "metadata": {},
   "outputs": [],
   "source": [
    "# PURPOSE: Convert binary data to M-ary by making groups of log2(M)\n",
    "#          bits and converting each bit to one M-ary digit.\n",
    "# INPUT: Binary digit vector, with length as a multiple of log2(M)\n",
    "# OUTPUT: M-ary digit vector\n",
    "def binary2mary(data, M):\n",
    "    length     = len(data)\n",
    "    log2M   = round(math.log2(M)) # integer number of bits per group\n",
    "    if (length % log2M) != 0:\n",
    "        print('Input to binary2mary must be divisible by log2(m).')\n",
    "    binvalues = np.zeros((log2M,1))\n",
    "    values = []\n",
    "    newdata = []\n",
    "    start = log2M-1\n",
    "    i = 0\n",
    "    while start >= 0:\n",
    "        binvalues[i] = int(math.pow(2,start))\n",
    "        start=start-1\n",
    "        i = i + 1\n",
    "    for each in data:\n",
    "        newdata.append(int(each))\n",
    "    newdata = np.array(newdata)\n",
    "    temp = np.reshape(newdata, (int(length/log2M), log2M))\n",
    "    marydata = temp.dot(binvalues)\n",
    "    return marydata"
   ]
  },
  {
   "cell_type": "code",
   "execution_count": 10,
   "id": "7e30213e",
   "metadata": {},
   "outputs": [],
   "source": [
    "# Signal Generation\n",
    "# INPUT: none\n",
    "# OUTPUT: binary data\n",
    "def Data_Frame(x):\n",
    "    A = math.sqrt(9/2)\n",
    "    plt.ion()\n",
    "\n",
    "    if 1:\n",
    "        # print('Lenght of message:',len(x))\n",
    "        data_bits = x\n",
    "        # print('Number of data bits: ' + str(len(data_bits)))\n",
    "\n",
    "        ###########################################\n",
    "        ### Signal Generation\n",
    "        ### INPUT: binary data\n",
    "        ### OUTPUT: 4-ary data (0..3) values\n",
    "\n",
    "        data = binary2mary(data_bits, 4)\n",
    "\n",
    "        ###########################################\n",
    "        ### Modulation\n",
    "        ### INPUT: data\n",
    "        ### OUTPUT: modulated values, x\n",
    "\n",
    "        inputVec   = [0, 1, 2, 3]\n",
    "        outputVecI = [A, -A, A, -A]\n",
    "        outputVecQ = [A, A, -A, -A]\n",
    "        xI         = lut(data, inputVec, outputVecI)\n",
    "        xQ         = lut(data, inputVec, outputVecQ)\n",
    "        xI = xI.reshape((1,len(data)))\n",
    "        xQ = xQ.reshape((1,len(data)))\n",
    "\n",
    "        x_s_I = np.reshape(xI, xI.size)\n",
    "        x_s_Q = np.reshape(xQ, xQ.size)\n",
    "\n",
    "        qpsk_IQ = x_s_I + 1j*x_s_Q\n",
    "\n",
    "#         print(\"Length of QPSK_IQ:\",len(qpsk_IQ))\n",
    "#         plt.figure()\n",
    "#         plt.plot(np.real(qpsk_IQ),label='Real Signal')\n",
    "#         plt.plot(np.imag(qpsk_IQ),label='Imag Signal')\n",
    "#         plt.grid('on')\n",
    "#         plt.legend()\n",
    "#         plt.show()\n",
    "    return qpsk_IQ"
   ]
  },
  {
   "cell_type": "markdown",
   "id": "83717140-d1c6-4185-97bd-21a8051d63c1",
   "metadata": {},
   "source": [
    "# Generate Transmit Bits"
   ]
  },
  {
   "cell_type": "code",
   "execution_count": 12,
   "id": "80b1c658-5a2a-4a04-8b0b-2c49efa532dd",
   "metadata": {},
   "outputs": [],
   "source": [
    "def Generate_QPSK_Samples(x):\n",
    "    add_bits = np.array([1,0])\n",
    "    TX_bits = np.concatenate([text2bits(x),add_bits])\n",
    "    QPSK_signal = Data_Frame(TX_bits)\n",
    "    data_frame = np.tile(QPSK_signal,100)\n",
    "    \n",
    "    return data_frame"
   ]
  },
  {
   "cell_type": "code",
   "execution_count": 13,
   "id": "332e9bec",
   "metadata": {},
   "outputs": [],
   "source": [
    "''' Generate the OFDM time signal for the input QPSK signal'''\n",
    "\n",
    "def High_Amplitude(data):\n",
    "    for i in range(len(data)//data_size):\n",
    "        \n",
    "        QPSK_payload = data[i*data_size:(i+1)*data_size]\n",
    "        \n",
    "        symbol = np.zeros(FFT, dtype=complex) # the overall K subcarriers\n",
    "        symbol[pilotCarriers] = pilotValue  # allocate the pilot subcarriers \n",
    "        symbol[dataCarriers] = QPSK_payload  # allocate the data subcarriers\n",
    "        symbol[pseudonymCarrier] = pseudonymValue*(1+mod_index) # Generate (1+m) times the original amplitude of the QPSK signal\n",
    "        \n",
    "        # Generate time domain signal\n",
    "        OFDM_time = np.fft.ifft(symbol,n=64)\n",
    "\n",
    "        # adding cyclic prefix\n",
    "        def addCP(x):\n",
    "            cp = x[-CP:]              \n",
    "            return np.hstack([cp, x]) \n",
    "        OFDM_withCP = addCP(OFDM_time)\n",
    "        if i == 0:\n",
    "            OFDM_swap = OFDM_withCP\n",
    "        else:\n",
    "            OFDM_signal = np.hstack([OFDM_swap, OFDM_withCP])\n",
    "            OFDM_swap = OFDM_signal   \n",
    "    return OFDM_signal"
   ]
  },
  {
   "cell_type": "code",
   "execution_count": 14,
   "id": "88fc7864-c971-494f-a81f-8d9bdd1f301b",
   "metadata": {},
   "outputs": [],
   "source": [
    "''' Generate the OFDM time signal for the input QPSK signal'''\n",
    "\n",
    "def Low_Amplitude(data):\n",
    "    for i in range(len(data)//data_size):\n",
    "        \n",
    "        QPSK_payload = data[i*data_size:(i+1)*data_size]\n",
    "        \n",
    "        symbol = np.zeros(FFT, dtype=complex) # the overall K subcarriers\n",
    "        symbol[pilotCarriers] = pilotValue  # allocate the pilot subcarriers \n",
    "        symbol[dataCarriers] = QPSK_payload  # allocate the data subcarriers\n",
    "        symbol[pseudonymCarrier] = pseudonymValue*(1-mod_index) # Generate (1+m) times the original amplitude of the QPSK signal\n",
    "        \n",
    "        # Generate time domain signal\n",
    "        OFDM_time = np.fft.ifft(symbol,n=64)\n",
    "\n",
    "        # adding cyclic prefix\n",
    "        def addCP(x):\n",
    "            cp = x[-CP:]              \n",
    "            return np.hstack([cp, x]) \n",
    "            \n",
    "        OFDM_withCP = addCP(OFDM_time)\n",
    "        if i == 0:\n",
    "            OFDM_swap = OFDM_withCP\n",
    "        else:\n",
    "            OFDM_signal = np.hstack([OFDM_swap, OFDM_withCP])\n",
    "            OFDM_swap = OFDM_signal\n",
    "            \n",
    "    return OFDM_signal"
   ]
  },
  {
   "cell_type": "code",
   "execution_count": 15,
   "id": "b99c7e93",
   "metadata": {},
   "outputs": [],
   "source": [
    "'''Embedding the pseudonym watermark signal on to the OFDM host signal\n",
    "Divide the ofdm packet into 10 window of samples of size 600 called chips\n",
    "Send chips with alternative high and low power patterns which can be detected \n",
    "as power changes at the passive receiver.'''\n",
    "\n",
    "def Watermarking(x):\n",
    "    for i in range(len(pseudonym_packet)):\n",
    "        if pseudonym_packet[i] ==1:\n",
    "            swap = High_Amplitude(Generate_QPSK_Samples(x))\n",
    "            for j in range(1,10):\n",
    "                if j%2 !=0:\n",
    "                    watermark_signal = np.concatenate([swap,Low_Amplitude(Generate_QPSK_Samples(x))])\n",
    "                else:\n",
    "                    watermark_signal = np.concatenate([swap,High_Amplitude(Generate_QPSK_Samples(x))])\n",
    "                swap = watermark_signal\n",
    "       \n",
    "        else:\n",
    "            swap = Low_Amplitude(Generate_QPSK_Samples(x))\n",
    "            for k in range(1,10):\n",
    "                if k%2 !=0:\n",
    "                    watermark_signal = np.concatenate([swap,High_Amplitude(Generate_QPSK_Samples(x))])  \n",
    "                else:\n",
    "                    watermark_signal = np.concatenate([swap,Low_Amplitude(Generate_QPSK_Samples(x))])\n",
    "                swap = watermark_signal \n",
    "        if i == 0:\n",
    "            SWAP = watermark_signal \n",
    "        else:\n",
    "            watermark = np.concatenate([SWAP,watermark_signal])\n",
    "            SWAP = watermark\n",
    "    \n",
    "    return watermark"
   ]
  },
  {
   "cell_type": "code",
   "execution_count": 16,
   "id": "730ee734",
   "metadata": {},
   "outputs": [],
   "source": [
    "# Generate HTSTF signals for time synchronization\n",
    "def Generate_HTSTF():\n",
    "    data = scipy.io.loadmat('HTSTF.mat')\n",
    "    new_data = data['stf'].reshape((1,len(data['stf'])))\n",
    "    preamble = np.tile(new_data,10)[0]\n",
    "    return preamble"
   ]
  },
  {
   "cell_type": "code",
   "execution_count": 17,
   "id": "16632179",
   "metadata": {},
   "outputs": [],
   "source": [
    "''' Generate the watermark TX signal '''\n",
    "def Generate_OFDM_Packet(x):\n",
    "    \n",
    "    # Generate the watermark signal\n",
    "    watermarked_OFDM_signal = Watermarking(x)\n",
    "    \n",
    "    # create a preamble for synchronization\n",
    "    OFDM_preamb =  Generate_HTSTF()\n",
    "    \n",
    "    # Concatenate preamble signal to OFDM_data\n",
    "    packet = np.concatenate((OFDM_preamb,2.5*watermarked_OFDM_signal))\n",
    "    \n",
    "    return packet"
   ]
  },
  {
   "cell_type": "code",
   "execution_count": null,
   "id": "39b64d7f",
   "metadata": {},
   "outputs": [],
   "source": [
    "TX_packet = Generate_OFDM_Packet(actual_message)\n",
    "\n",
    "plt.plot(abs(TX_packet[:6800]))\n",
    "print('Length of OFDM packet',len(TX_packet))\n",
    "print('Max power in dBm',10*np.log10(1.414*np.mean(abs(TX_packet)**2)))"
   ]
  },
  {
   "cell_type": "code",
   "execution_count": null,
   "id": "f9f15acf-4be2-4694-a755-c965747f0fc2",
   "metadata": {
    "scrolled": true
   },
   "outputs": [],
   "source": [
    "plt.psd(TX_packet)\n",
    "plt.show()"
   ]
  },
  {
   "cell_type": "code",
   "execution_count": 22,
   "id": "b70f0b45",
   "metadata": {},
   "outputs": [],
   "source": [
    "# The SDR transmits IQ samples as IQIQIQ... patern \n",
    "# Convert complex to binary\n",
    "def write_complex_binary(data, filename):\n",
    "    '''\n",
    "    Open filename and write array to it as binary\n",
    "    Format is interleaved float IQ e.g. each I,Q should be 32-bit float \n",
    "    INPUT\n",
    "    ----\n",
    "    data:     data to be wrote into the file. format: (length, )\n",
    "    filename: file name\n",
    "    '''\n",
    "    re = np.real(data)\n",
    "    im = np.imag(data)\n",
    "    binary = np.zeros(len(data)*2, dtype=np.float32)\n",
    "    binary[::2] = re\n",
    "    binary[1::2] = im\n",
    "    binary.tofile(filename) "
   ]
  },
  {
   "cell_type": "code",
   "execution_count": 23,
   "id": "f061bc82",
   "metadata": {},
   "outputs": [],
   "source": [
    "# save generated signal to file\n",
    "write_complex_binary(TX_packet, 'SingleChannel_watermark_Aug9_2024.iq')"
   ]
  }
 ],
 "metadata": {
  "kernelspec": {
   "display_name": "Python 3 (ipykernel)",
   "language": "python",
   "name": "python3"
  },
  "language_info": {
   "codemirror_mode": {
    "name": "ipython",
    "version": 3
   },
   "file_extension": ".py",
   "mimetype": "text/x-python",
   "name": "python",
   "nbconvert_exporter": "python",
   "pygments_lexer": "ipython3",
   "version": "3.9.7"
  }
 },
 "nbformat": 4,
 "nbformat_minor": 5
}
